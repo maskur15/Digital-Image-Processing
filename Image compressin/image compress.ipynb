{
 "cells": [
  {
   "cell_type": "code",
   "execution_count": 4,
   "metadata": {},
   "outputs": [],
   "source": [
    "import matplotlib.pyplot as plt \n",
    "import numpy as np \n",
    "from sklearn.decomposition import PCA \n",
    "from matplotlib.pyplot import imread \n",
    "\n"
   ]
  },
  {
   "cell_type": "code",
   "execution_count": 6,
   "metadata": {},
   "outputs": [
    {
     "name": "stdout",
     "output_type": "stream",
     "text": [
      "[[[ 15  10   6]\n",
      "  [ 11   6   2]\n",
      "  [ 11   6   2]\n",
      "  ...\n",
      "  [ 14  44 255]\n",
      "  [  8  38 250]\n",
      "  [  8  38 250]]\n",
      "\n",
      " [[ 14   9   5]\n",
      "  [ 13   8   4]\n",
      "  [ 12   7   3]\n",
      "  ...\n",
      "  [ 14  44 255]\n",
      "  [ 10  40 252]\n",
      "  [ 10  40 252]]\n",
      "\n",
      " [[ 13   8   4]\n",
      "  [ 14   9   5]\n",
      "  [ 15  10   6]\n",
      "  ...\n",
      "  [ 15  45 255]\n",
      "  [ 13  43 255]\n",
      "  [ 12  42 254]]\n",
      "\n",
      " ...\n",
      "\n",
      " [[ 71  31  19]\n",
      "  [ 73  33  21]\n",
      "  [ 76  36  24]\n",
      "  ...\n",
      "  [ 59  23   7]\n",
      "  [ 62  26  10]\n",
      "  [ 66  30  14]]\n",
      "\n",
      " [[ 74  34  22]\n",
      "  [ 75  35  23]\n",
      "  [ 78  38  26]\n",
      "  ...\n",
      "  [ 66  30  14]\n",
      "  [ 64  28  12]\n",
      "  [ 65  29  13]]\n",
      "\n",
      " [[ 77  37  25]\n",
      "  [ 77  37  25]\n",
      "  [ 79  39  27]\n",
      "  ...\n",
      "  [ 72  36  20]\n",
      "  [ 66  30  14]\n",
      "  [ 65  29  13]]]\n"
     ]
    },
    {
     "data": {
      "text/plain": [
       "array([[[ 15,  10,   6],\n",
       "        [ 11,   6,   2],\n",
       "        [ 11,   6,   2],\n",
       "        ...,\n",
       "        [ 14,  44, 255],\n",
       "        [  8,  38, 250],\n",
       "        [  8,  38, 250]],\n",
       "\n",
       "       [[ 14,   9,   5],\n",
       "        [ 13,   8,   4],\n",
       "        [ 12,   7,   3],\n",
       "        ...,\n",
       "        [ 14,  44, 255],\n",
       "        [ 10,  40, 252],\n",
       "        [ 10,  40, 252]],\n",
       "\n",
       "       [[ 13,   8,   4],\n",
       "        [ 14,   9,   5],\n",
       "        [ 15,  10,   6],\n",
       "        ...,\n",
       "        [ 15,  45, 255],\n",
       "        [ 13,  43, 255],\n",
       "        [ 12,  42, 254]],\n",
       "\n",
       "       ...,\n",
       "\n",
       "       [[ 71,  31,  19],\n",
       "        [ 73,  33,  21],\n",
       "        [ 76,  36,  24],\n",
       "        ...,\n",
       "        [ 59,  23,   7],\n",
       "        [ 62,  26,  10],\n",
       "        [ 66,  30,  14]],\n",
       "\n",
       "       [[ 74,  34,  22],\n",
       "        [ 75,  35,  23],\n",
       "        [ 78,  38,  26],\n",
       "        ...,\n",
       "        [ 66,  30,  14],\n",
       "        [ 64,  28,  12],\n",
       "        [ 65,  29,  13]],\n",
       "\n",
       "       [[ 77,  37,  25],\n",
       "        [ 77,  37,  25],\n",
       "        [ 79,  39,  27],\n",
       "        ...,\n",
       "        [ 72,  36,  20],\n",
       "        [ 66,  30,  14],\n",
       "        [ 65,  29,  13]]], dtype=uint8)"
      ]
     },
     "execution_count": 6,
     "metadata": {},
     "output_type": "execute_result"
    }
   ],
   "source": [
    "img = imread(\"kaku.jpg\")\n",
    "img = img.astype(np.uint8)\n",
    "img =img/2"
   ]
  }
 ],
 "metadata": {
  "interpreter": {
   "hash": "b42a867c276200960cea17a6cc15d06091910cb0cb9967c3f611de59cc8cda30"
  },
  "kernelspec": {
   "display_name": "Python 3.7.1 64-bit (conda)",
   "language": "python",
   "name": "python3"
  },
  "language_info": {
   "codemirror_mode": {
    "name": "ipython",
    "version": 3
   },
   "file_extension": ".py",
   "mimetype": "text/x-python",
   "name": "python",
   "nbconvert_exporter": "python",
   "pygments_lexer": "ipython3",
   "version": "3.7.1"
  },
  "orig_nbformat": 4
 },
 "nbformat": 4,
 "nbformat_minor": 2
}
